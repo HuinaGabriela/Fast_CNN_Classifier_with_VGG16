{
  "cells": [
    {
      "cell_type": "markdown",
      "metadata": {
        "id": "view-in-github",
        "colab_type": "text"
      },
      "source": [
        "<a href=\"https://colab.research.google.com/github/HuinaGabriela/Fast_CNN_Classifier_with_VGG16/blob/main/Conhe%C3%A7a_o_Colab.ipynb\" target=\"_parent\"><img src=\"https://colab.research.google.com/assets/colab-badge.svg\" alt=\"Open In Colab\"/></a>"
      ]
    },
    {
      "cell_type": "code",
      "source": [
        "# from google.colab import files\n",
        "\n",
        "# uploaded = files.upload()"
      ],
      "metadata": {
        "colab": {
          "base_uri": "https://localhost:8080/",
          "height": 90
        },
        "id": "3fXbf7mXEBCf",
        "outputId": "3f3f8a43-a604-4bc1-90b1-db545cca7456"
      },
      "execution_count": 2,
      "outputs": [
        {
          "output_type": "display_data",
          "data": {
            "text/plain": [
              "<IPython.core.display.HTML object>"
            ],
            "text/html": [
              "\n",
              "     <input type=\"file\" id=\"files-c770882d-d984-4206-9e14-7092e1f7d756\" name=\"files[]\" multiple disabled\n",
              "        style=\"border:none\" />\n",
              "     <output id=\"result-c770882d-d984-4206-9e14-7092e1f7d756\">\n",
              "      Upload widget is only available when the cell has been executed in the\n",
              "      current browser session. Please rerun this cell to enable.\n",
              "      </output>\n",
              "      <script>// Copyright 2017 Google LLC\n",
              "//\n",
              "// Licensed under the Apache License, Version 2.0 (the \"License\");\n",
              "// you may not use this file except in compliance with the License.\n",
              "// You may obtain a copy of the License at\n",
              "//\n",
              "//      http://www.apache.org/licenses/LICENSE-2.0\n",
              "//\n",
              "// Unless required by applicable law or agreed to in writing, software\n",
              "// distributed under the License is distributed on an \"AS IS\" BASIS,\n",
              "// WITHOUT WARRANTIES OR CONDITIONS OF ANY KIND, either express or implied.\n",
              "// See the License for the specific language governing permissions and\n",
              "// limitations under the License.\n",
              "\n",
              "/**\n",
              " * @fileoverview Helpers for google.colab Python module.\n",
              " */\n",
              "(function(scope) {\n",
              "function span(text, styleAttributes = {}) {\n",
              "  const element = document.createElement('span');\n",
              "  element.textContent = text;\n",
              "  for (const key of Object.keys(styleAttributes)) {\n",
              "    element.style[key] = styleAttributes[key];\n",
              "  }\n",
              "  return element;\n",
              "}\n",
              "\n",
              "// Max number of bytes which will be uploaded at a time.\n",
              "const MAX_PAYLOAD_SIZE = 100 * 1024;\n",
              "\n",
              "function _uploadFiles(inputId, outputId) {\n",
              "  const steps = uploadFilesStep(inputId, outputId);\n",
              "  const outputElement = document.getElementById(outputId);\n",
              "  // Cache steps on the outputElement to make it available for the next call\n",
              "  // to uploadFilesContinue from Python.\n",
              "  outputElement.steps = steps;\n",
              "\n",
              "  return _uploadFilesContinue(outputId);\n",
              "}\n",
              "\n",
              "// This is roughly an async generator (not supported in the browser yet),\n",
              "// where there are multiple asynchronous steps and the Python side is going\n",
              "// to poll for completion of each step.\n",
              "// This uses a Promise to block the python side on completion of each step,\n",
              "// then passes the result of the previous step as the input to the next step.\n",
              "function _uploadFilesContinue(outputId) {\n",
              "  const outputElement = document.getElementById(outputId);\n",
              "  const steps = outputElement.steps;\n",
              "\n",
              "  const next = steps.next(outputElement.lastPromiseValue);\n",
              "  return Promise.resolve(next.value.promise).then((value) => {\n",
              "    // Cache the last promise value to make it available to the next\n",
              "    // step of the generator.\n",
              "    outputElement.lastPromiseValue = value;\n",
              "    return next.value.response;\n",
              "  });\n",
              "}\n",
              "\n",
              "/**\n",
              " * Generator function which is called between each async step of the upload\n",
              " * process.\n",
              " * @param {string} inputId Element ID of the input file picker element.\n",
              " * @param {string} outputId Element ID of the output display.\n",
              " * @return {!Iterable<!Object>} Iterable of next steps.\n",
              " */\n",
              "function* uploadFilesStep(inputId, outputId) {\n",
              "  const inputElement = document.getElementById(inputId);\n",
              "  inputElement.disabled = false;\n",
              "\n",
              "  const outputElement = document.getElementById(outputId);\n",
              "  outputElement.innerHTML = '';\n",
              "\n",
              "  const pickedPromise = new Promise((resolve) => {\n",
              "    inputElement.addEventListener('change', (e) => {\n",
              "      resolve(e.target.files);\n",
              "    });\n",
              "  });\n",
              "\n",
              "  const cancel = document.createElement('button');\n",
              "  inputElement.parentElement.appendChild(cancel);\n",
              "  cancel.textContent = 'Cancel upload';\n",
              "  const cancelPromise = new Promise((resolve) => {\n",
              "    cancel.onclick = () => {\n",
              "      resolve(null);\n",
              "    };\n",
              "  });\n",
              "\n",
              "  // Wait for the user to pick the files.\n",
              "  const files = yield {\n",
              "    promise: Promise.race([pickedPromise, cancelPromise]),\n",
              "    response: {\n",
              "      action: 'starting',\n",
              "    }\n",
              "  };\n",
              "\n",
              "  cancel.remove();\n",
              "\n",
              "  // Disable the input element since further picks are not allowed.\n",
              "  inputElement.disabled = true;\n",
              "\n",
              "  if (!files) {\n",
              "    return {\n",
              "      response: {\n",
              "        action: 'complete',\n",
              "      }\n",
              "    };\n",
              "  }\n",
              "\n",
              "  for (const file of files) {\n",
              "    const li = document.createElement('li');\n",
              "    li.append(span(file.name, {fontWeight: 'bold'}));\n",
              "    li.append(span(\n",
              "        `(${file.type || 'n/a'}) - ${file.size} bytes, ` +\n",
              "        `last modified: ${\n",
              "            file.lastModifiedDate ? file.lastModifiedDate.toLocaleDateString() :\n",
              "                                    'n/a'} - `));\n",
              "    const percent = span('0% done');\n",
              "    li.appendChild(percent);\n",
              "\n",
              "    outputElement.appendChild(li);\n",
              "\n",
              "    const fileDataPromise = new Promise((resolve) => {\n",
              "      const reader = new FileReader();\n",
              "      reader.onload = (e) => {\n",
              "        resolve(e.target.result);\n",
              "      };\n",
              "      reader.readAsArrayBuffer(file);\n",
              "    });\n",
              "    // Wait for the data to be ready.\n",
              "    let fileData = yield {\n",
              "      promise: fileDataPromise,\n",
              "      response: {\n",
              "        action: 'continue',\n",
              "      }\n",
              "    };\n",
              "\n",
              "    // Use a chunked sending to avoid message size limits. See b/62115660.\n",
              "    let position = 0;\n",
              "    do {\n",
              "      const length = Math.min(fileData.byteLength - position, MAX_PAYLOAD_SIZE);\n",
              "      const chunk = new Uint8Array(fileData, position, length);\n",
              "      position += length;\n",
              "\n",
              "      const base64 = btoa(String.fromCharCode.apply(null, chunk));\n",
              "      yield {\n",
              "        response: {\n",
              "          action: 'append',\n",
              "          file: file.name,\n",
              "          data: base64,\n",
              "        },\n",
              "      };\n",
              "\n",
              "      let percentDone = fileData.byteLength === 0 ?\n",
              "          100 :\n",
              "          Math.round((position / fileData.byteLength) * 100);\n",
              "      percent.textContent = `${percentDone}% done`;\n",
              "\n",
              "    } while (position < fileData.byteLength);\n",
              "  }\n",
              "\n",
              "  // All done.\n",
              "  yield {\n",
              "    response: {\n",
              "      action: 'complete',\n",
              "    }\n",
              "  };\n",
              "}\n",
              "\n",
              "scope.google = scope.google || {};\n",
              "scope.google.colab = scope.google.colab || {};\n",
              "scope.google.colab._files = {\n",
              "  _uploadFiles,\n",
              "  _uploadFilesContinue,\n",
              "};\n",
              "})(self);\n",
              "</script> "
            ]
          },
          "metadata": {}
        },
        {
          "output_type": "stream",
          "name": "stdout",
          "text": [
            "Saving classificador_de_imagens.zip to classificador_de_imagens.zip\n"
          ]
        }
      ]
    },
    {
      "cell_type": "code",
      "source": [
        "# import zipfile\n",
        "# import os\n",
        "\n",
        "# # Nome do arquivo conforme aparece no upload\n",
        "# zip_file = 'classificador_de_imagens.zip'\n",
        "\n",
        "# # Extrai os arquivos para uma nova pasta chamada 'meu_projeto'\n",
        "# with zipfile.ZipFile(zip_file, 'r') as zip_ref:\n",
        "#     zip_ref.extractall('meu_projeto')\n",
        "\n",
        "# # Lista os arquivos extraídos\n",
        "# os.listdir('meu_projeto')"
      ],
      "metadata": {
        "colab": {
          "base_uri": "https://localhost:8080/"
        },
        "id": "7t-RMVv0EW22",
        "outputId": "c761ab86-c7ec-48bd-c14b-60c2245c92e9"
      },
      "execution_count": 3,
      "outputs": [
        {
          "output_type": "execute_result",
          "data": {
            "text/plain": [
              "['classificador_de_imagens']"
            ]
          },
          "metadata": {},
          "execution_count": 3
        }
      ]
    },
    {
      "cell_type": "code",
      "source": [
        "# from google.colab import drive\n",
        "# drive.mount('/content/drive')"
      ],
      "metadata": {
        "id": "SiOirx3VEZ2O"
      },
      "execution_count": null,
      "outputs": []
    },
    {
      "cell_type": "code",
      "source": [],
      "metadata": {
        "id": "jCAWvZL3Id0j"
      },
      "execution_count": null,
      "outputs": []
    },
    {
      "cell_type": "code",
      "source": [
        "# import os\n",
        "\n",
        "# # Lista arquivos da pasta de treino de gatos\n",
        "# cat_images = os.listdir('/content/meu_projeto/classificador_de_imagens/dataset/train/cats')\n",
        "# print(f'Número de imagens de gato: {len(cat_images)}')\n",
        "# print('Exemplos:', cat_images[:5])\n",
        "\n"
      ],
      "metadata": {
        "colab": {
          "base_uri": "https://localhost:8080/"
        },
        "id": "MywoueTEId2W",
        "outputId": "e2c34e6c-75db-42fb-b9d7-083522f41161"
      },
      "execution_count": 6,
      "outputs": [
        {
          "output_type": "stream",
          "name": "stdout",
          "text": [
            "Número de imagens de gato: 80\n",
            "Exemplos: ['cat.4054.jpg', 'cat.4090.jpg', 'cat.4026.jpg', 'cat.4057.jpg', 'cat.4006.jpg']\n"
          ]
        }
      ]
    },
    {
      "cell_type": "code",
      "source": [
        "# import os\n",
        "\n",
        "# # Lista arquivos da pasta de treino de dogs\n",
        "# dog_images = os.listdir('/content/meu_projeto/classificador_de_imagens/dataset/train/dogs')\n",
        "# print(f'Número de imagens de dogs: {len(dog_images)}')\n",
        "# print('Exemplos:', dog_images[:5])"
      ],
      "metadata": {
        "colab": {
          "base_uri": "https://localhost:8080/"
        },
        "id": "yqLwPzoCJqAz",
        "outputId": "44cc8c69-6c72-4ef2-9eb2-142be6150d4a"
      },
      "execution_count": 11,
      "outputs": [
        {
          "output_type": "stream",
          "name": "stdout",
          "text": [
            "Número de imagens de dogs: 80\n",
            "Exemplos: ['dog.4019.jpg', 'dog.4049.jpg', 'dog.4080.jpg', 'dog.4090.jpg', 'dog.4058.jpg']\n"
          ]
        }
      ]
    },
    {
      "cell_type": "code",
      "source": [
        "from tensorflow.keras.preprocessing.image import ImageDataGenerator\n",
        "import os\n",
        "\n",
        "# Caminho base do dataset\n",
        "base_dir = '/content/meu_projeto/classificador_de_imagens/dataset'\n",
        "\n",
        "# Caminhos específicos\n",
        "train_dir = os.path.join(base_dir, 'train')\n",
        "val_dir = os.path.join(base_dir, 'val')\n",
        "test_dir = os.path.join(base_dir, 'test')\n",
        "\n",
        "# Parâmetros\n",
        "img_size = (224, 224)\n",
        "batch_size = 16\n",
        "\n",
        "# Aumento de dados (data augmentation) apenas para o treino\n",
        "train_datagen = ImageDataGenerator(\n",
        "    rescale=1./255,\n",
        "    rotation_range=20,\n",
        "    width_shift_range=0.1,\n",
        "    height_shift_range=0.1,\n",
        "    shear_range=0.1,\n",
        "    zoom_range=0.2,\n",
        "    horizontal_flip=True\n",
        ")\n",
        "\n",
        "# Apenas normalização para validação e teste\n",
        "val_test_datagen = ImageDataGenerator(rescale=1./255)\n",
        "\n",
        "# Geradores\n",
        "train_generator = train_datagen.flow_from_directory(\n",
        "    train_dir,\n",
        "    target_size=img_size,\n",
        "    batch_size=batch_size,\n",
        "    class_mode='categorical'\n",
        ")\n",
        "\n",
        "val_generator = val_test_datagen.flow_from_directory(\n",
        "    val_dir,\n",
        "    target_size=img_size,\n",
        "    batch_size=batch_size,\n",
        "    class_mode='categorical'\n",
        ")\n",
        "\n",
        "test_generator = val_test_datagen.flow_from_directory(\n",
        "    test_dir,\n",
        "    target_size=img_size,\n",
        "    batch_size=batch_size,\n",
        "    class_mode='categorical',\n",
        "    shuffle=False\n",
        ")\n"
      ],
      "metadata": {
        "id": "CHWMnka6KhHh",
        "outputId": "a9bbf578-0d2f-46b9-8b9b-a758ac0d4059",
        "colab": {
          "base_uri": "https://localhost:8080/"
        }
      },
      "execution_count": 16,
      "outputs": [
        {
          "output_type": "stream",
          "name": "stdout",
          "text": [
            "Found 160 images belonging to 2 classes.\n",
            "Found 20 images belonging to 2 classes.\n",
            "Found 20 images belonging to 2 classes.\n"
          ]
        }
      ]
    },
    {
      "cell_type": "code",
      "source": [
        "from tensorflow.keras.applications import VGG16\n",
        "from tensorflow.keras.models import Sequential, load_model\n",
        "from tensorflow.keras.layers import Dense, Flatten, Dropout\n",
        "from tensorflow.keras.preprocessing.image import ImageDataGenerator\n",
        "from tensorflow.keras.optimizers import Adam\n",
        "from tensorflow.keras.preprocessing import image\n",
        "import matplotlib.pyplot as plt\n",
        "import numpy as np\n",
        "\n",
        "# ------------------\n",
        "# CAMINHOS CORRETOS NO COLAB\n",
        "train_dir = '/content/meu_projeto/classificador_de_imagens/dataset/train'\n",
        "val_dir   = '/content/meu_projeto/classificador_de_imagens/dataset/val'\n",
        "test_dir  = '/content/meu_projeto/classificador_de_imagens/dataset/test'\n",
        "\n",
        "# CONFIGURAÇÃO DE CAMINHOS E PARÂMETROS\n",
        "# train_dir = 'dataset/train'\n",
        "# val_dir = 'dataset/val'\n",
        "# test_dir = 'dataset/test'\n",
        "\n",
        "img_size = (224, 224) # Tamanho padrão de entrada da VGG16\n",
        "batch_size = 16\n",
        "num_classes = 2 # Número de classes (ex: 'cats' e 'dogs')\n",
        "\n",
        "# ------------------\n",
        "# PREPARAÇÃO DOS DADOS\n",
        "\n",
        "# Aumento de dados (\"data augmentation\") apenas para o conjunto de treino\n",
        "train_datagen = ImageDataGenerator(\n",
        "    rescale=1./255, # Normaliza os pixels para [0, 1]\n",
        "    rotation_range=20, # Rotação aleatória de até 20 graus\n",
        "    width_shift_range=0.1, # Deslocamento horizontal\n",
        "    height_shift_range=0.1, # Deslocamento vertical\n",
        "    shear_range=0.1, # Cisalhamento\n",
        "    zoom_range=0.2, # Zoom\n",
        "    horizontal_flip=True # Espelhamento horizontal\n",
        ")\n",
        "# Apenas normalização para validação e teste\n",
        "val_test_datagen = ImageDataGenerator(rescale=1./255)\n",
        "\n",
        "# Geração dos lotes de imagens\n",
        "train_generator = train_datagen.flow_from_directory(\n",
        "    train_dir,\n",
        "    target_size=img_size,\n",
        "    batch_size=batch_size,\n",
        "    class_mode='categorical' # Uma saída por classe\n",
        ")\n",
        "\n",
        "val_generator = val_test_datagen.flow_from_directory(\n",
        "    val_dir,\n",
        "    target_size=img_size,\n",
        "    batch_size=batch_size,\n",
        "    class_mode='categorical'\n",
        ")\n",
        "\n",
        "test_generator = val_test_datagen.flow_from_directory(\n",
        "    test_dir,\n",
        "    target_size=img_size,\n",
        "    batch_size=batch_size,\n",
        "    class_mode='categorical',\n",
        "    shuffle=False # Necessário para avaliação e predição com ordem conhecida\n",
        ")\n",
        "\n",
        "# ------------------\n",
        "# CONSTRUÇÃO DO MODELO USANDO TRANSFER LEARNING COM VGG16\n",
        "\n",
        "# Carrega a VGG16 pré-treinada no ImageNet, sem o topo (camadas densas)\n",
        "base_model = VGG16(weights='imagenet', include_top=False, input_shape=(224, 224, 3))\n",
        "base_model.trainable = False  # Congelar todas as camadas da base inicialmente\n",
        "\n",
        "# Adiciona o classificador customizado sobre a base congelada\n",
        "model = Sequential([\n",
        "    base_model,\n",
        "    Flatten(), # Achata os mapas de ativação\n",
        "    Dense(256, activation='relu'), # Camada totalmente conectada\n",
        "    Dropout(0.5), # Regularização para evitar overfitting\n",
        "    Dense(num_classes, activation='softmax') # Camada de saída\n",
        "])\n",
        "\n",
        "# Compila o modelo para treinamento do classificador\n",
        "model.compile(\n",
        "    optimizer=Adam(learning_rate=1e-4),\n",
        "    loss='categorical_crossentropy',\n",
        "    metrics=['accuracy']\n",
        ")\n",
        "\n",
        "# Treinamento inicial apenas do classificador (base congelada)\n",
        "print(\"### Treinando só o classificador (base congelada) ###\")\n",
        "history = model.fit(\n",
        "    train_generator,\n",
        "    epochs=10,\n",
        "    validation_data=val_generator\n",
        ")\n",
        "\n",
        "# ------------------\n",
        "# FINE-TUNING: DESCONGELANDO CAMADAS SUPERIORES DA BASE\n",
        "\n",
        "# Permite o fine-tuning da base, mas apenas das últimas 4 camadas convolucionais VGG16\n",
        "base_model.trainable = True\n",
        "for layer in base_model.layers[:-4]:\n",
        "    layer.trainable = False # Mantém congeladas as camadas inferiores\n",
        "\n",
        "# Compilação com taxa de aprendizado menor para fine-tuning\n",
        "model.compile(\n",
        "    optimizer=Adam(learning_rate=1e-5),  # LR menor para fine-tuning\n",
        "    loss='categorical_crossentropy',\n",
        "    metrics=['accuracy']\n",
        ")\n",
        "\n",
        "# Treinamento com fine-tuning (ajuste fino das últimas camadas da base)\n",
        "print(\"### Fine-tuning das últimas camadas da base VGG16 ###\")\n",
        "history_fine = model.fit(\n",
        "    train_generator,\n",
        "    epochs=10,\n",
        "    validation_data=val_generator\n",
        ")\n",
        "\n",
        "# ------------------\n",
        "# SALVAMENTO DO MODELO TREINADO\n",
        "model.save('vgg16_transfer_finetuned.keras')\n",
        "print(\"Modelo salvo em 'vgg16_transfer_finetuned.h5'\")\n",
        "\n",
        "# ------------------\n",
        "# VISUALIZAÇÃO DO DESEMPENHO (LOSS E ACURÁCIA POR ÉPOCA)\n",
        "def plot_training(history1, history2):\n",
        "    \"\"\"\n",
        "    Compara as curvas de validação antes e depois do fine-tuning.\n",
        "    \"\"\"\n",
        "    plt.figure(figsize=(12, 5))\n",
        "\n",
        "    # Validação - Loss\n",
        "    plt.subplot(1, 2, 1)\n",
        "    plt.plot(history1.history['val_loss'], label='Val Loss (Feature Extraction)')\n",
        "    plt.plot(history2.history['val_loss'], label='Val Loss (Fine-tuning)')\n",
        "    plt.title('Val Loss')\n",
        "    plt.xlabel('Épocas')\n",
        "    plt.ylabel('Loss')\n",
        "    plt.legend()\n",
        "\n",
        "    # Validação - Acurácia\n",
        "    plt.subplot(1, 2, 2)\n",
        "    plt.plot(history1.history['val_accuracy'], label='Val Accuracy (Feature Extraction)')\n",
        "    plt.plot(history2.history['val_accuracy'], label='Val Accuracy (Fine-tuning)')\n",
        "    plt.title('Val Accuracy')\n",
        "    plt.xlabel('Épocas')\n",
        "    plt.ylabel('Accuracy')\n",
        "    plt.legend()\n",
        "\n",
        "    plt.show()\n",
        "\n",
        "plot_training(history, history_fine)\n",
        "\n",
        "# ------------------\n",
        "# AVALIAÇÃO FINAL DO MODELO NO CONJUNTO DE TESTE\n",
        "loss, accuracy = model.evaluate(test_generator)\n",
        "print(f'Test loss: {loss:.4f}')\n",
        "print(f'Test accuracy: {accuracy:.4f}')\n",
        "\n",
        "# ------------------\n",
        "# FUNÇÕES DE PREDIÇÃO PARA IMAGEM NOVA\n",
        "def prepare_image(img_path):\n",
        "    \"\"\"\n",
        "    Pré-processa uma imagem individual para predição:\n",
        "    - Redimensiona\n",
        "    - Normaliza os pixels\n",
        "    - Expande as dimensões (para formato de batch)\n",
        "    \"\"\"\n",
        "    img = image.load_img(img_path, target_size=img_size)\n",
        "    x = image.img_to_array(img) / 255.0\n",
        "    x = np.expand_dims(x, axis=0)\n",
        "    return x\n",
        "\n",
        "# Dicionário de mapeamento: índice -> nome da classe\n",
        "class_indices = train_generator.class_indices\n",
        "inv_class_indices = {v: k for k, v in class_indices.items()}\n",
        "\n",
        "# Função para prever classe de imagem nova\n",
        "def predict_image(img_path):\n",
        "    \"\"\"\n",
        "    Realiza a predição da imagem informada e imprime a classe prevista com a probabilidade associada.\n",
        "    \"\"\"\n",
        "    x = prepare_image(img_path)\n",
        "    preds = model.predict(x)\n",
        "    class_idx = np.argmax(preds)\n",
        "    class_name = inv_class_indices[class_idx]\n",
        "    confidence = preds[0][class_idx]\n",
        "    print(f'Imagem: {img_path}')\n",
        "    print(f'Classe prevista: {class_name} ({confidence*100:.2f}%)')\n"
      ],
      "metadata": {
        "id": "HcYI9qbPK-4U",
        "outputId": "c469ae70-891c-48b6-96da-79c714728009",
        "colab": {
          "base_uri": "https://localhost:8080/",
          "height": 1000
        }
      },
      "execution_count": 17,
      "outputs": [
        {
          "output_type": "stream",
          "name": "stdout",
          "text": [
            "Found 160 images belonging to 2 classes.\n",
            "Found 20 images belonging to 2 classes.\n",
            "Found 20 images belonging to 2 classes.\n",
            "Downloading data from https://storage.googleapis.com/tensorflow/keras-applications/vgg16/vgg16_weights_tf_dim_ordering_tf_kernels_notop.h5\n",
            "\u001b[1m58889256/58889256\u001b[0m \u001b[32m━━━━━━━━━━━━━━━━━━━━\u001b[0m\u001b[37m\u001b[0m \u001b[1m0s\u001b[0m 0us/step\n",
            "### Treinando só o classificador (base congelada) ###\n"
          ]
        },
        {
          "output_type": "stream",
          "name": "stderr",
          "text": [
            "/usr/local/lib/python3.11/dist-packages/keras/src/trainers/data_adapters/py_dataset_adapter.py:121: UserWarning: Your `PyDataset` class should call `super().__init__(**kwargs)` in its constructor. `**kwargs` can include `workers`, `use_multiprocessing`, `max_queue_size`. Do not pass these arguments to `fit()`, as they will be ignored.\n",
            "  self._warn_if_super_not_called()\n"
          ]
        },
        {
          "output_type": "stream",
          "name": "stdout",
          "text": [
            "Epoch 1/10\n",
            "\u001b[1m10/10\u001b[0m \u001b[32m━━━━━━━━━━━━━━━━━━━━\u001b[0m\u001b[37m\u001b[0m \u001b[1m0s\u001b[0m 10s/step - accuracy: 0.5017 - loss: 1.0090 "
          ]
        },
        {
          "output_type": "stream",
          "name": "stderr",
          "text": [
            "/usr/local/lib/python3.11/dist-packages/keras/src/trainers/data_adapters/py_dataset_adapter.py:121: UserWarning: Your `PyDataset` class should call `super().__init__(**kwargs)` in its constructor. `**kwargs` can include `workers`, `use_multiprocessing`, `max_queue_size`. Do not pass these arguments to `fit()`, as they will be ignored.\n",
            "  self._warn_if_super_not_called()\n"
          ]
        },
        {
          "output_type": "stream",
          "name": "stdout",
          "text": [
            "\b\b\b\b\b\b\b\b\b\b\b\b\b\b\b\b\b\b\b\b\b\b\b\b\b\b\b\b\b\b\b\b\b\b\b\b\b\b\b\b\b\b\b\b\b\b\b\b\b\b\b\b\b\b\b\b\b\b\b\b\b\b\b\b\b\b\b\b\b\b\b\b\r\u001b[1m10/10\u001b[0m \u001b[32m━━━━━━━━━━━━━━━━━━━━\u001b[0m\u001b[37m\u001b[0m \u001b[1m117s\u001b[0m 12s/step - accuracy: 0.5072 - loss: 0.9960 - val_accuracy: 0.6000 - val_loss: 0.6420\n",
            "Epoch 2/10\n",
            "\u001b[1m10/10\u001b[0m \u001b[32m━━━━━━━━━━━━━━━━━━━━\u001b[0m\u001b[37m\u001b[0m \u001b[1m130s\u001b[0m 13s/step - accuracy: 0.6057 - loss: 0.6436 - val_accuracy: 0.7500 - val_loss: 0.5058\n",
            "Epoch 3/10\n",
            "\u001b[1m10/10\u001b[0m \u001b[32m━━━━━━━━━━━━━━━━━━━━\u001b[0m\u001b[37m\u001b[0m \u001b[1m124s\u001b[0m 13s/step - accuracy: 0.7323 - loss: 0.4843 - val_accuracy: 0.8000 - val_loss: 0.4862\n",
            "Epoch 4/10\n",
            "\u001b[1m10/10\u001b[0m \u001b[32m━━━━━━━━━━━━━━━━━━━━\u001b[0m\u001b[37m\u001b[0m \u001b[1m124s\u001b[0m 13s/step - accuracy: 0.8413 - loss: 0.3961 - val_accuracy: 0.8500 - val_loss: 0.4133\n",
            "Epoch 5/10\n",
            "\u001b[1m10/10\u001b[0m \u001b[32m━━━━━━━━━━━━━━━━━━━━\u001b[0m\u001b[37m\u001b[0m \u001b[1m126s\u001b[0m 13s/step - accuracy: 0.8438 - loss: 0.3896 - val_accuracy: 0.8000 - val_loss: 0.4241\n",
            "Epoch 6/10\n",
            "\u001b[1m10/10\u001b[0m \u001b[32m━━━━━━━━━━━━━━━━━━━━\u001b[0m\u001b[37m\u001b[0m \u001b[1m115s\u001b[0m 12s/step - accuracy: 0.8820 - loss: 0.3024 - val_accuracy: 0.8000 - val_loss: 0.4574\n",
            "Epoch 7/10\n",
            "\u001b[1m10/10\u001b[0m \u001b[32m━━━━━━━━━━━━━━━━━━━━\u001b[0m\u001b[37m\u001b[0m \u001b[1m124s\u001b[0m 13s/step - accuracy: 0.8681 - loss: 0.3191 - val_accuracy: 0.8000 - val_loss: 0.4490\n",
            "Epoch 8/10\n",
            "\u001b[1m10/10\u001b[0m \u001b[32m━━━━━━━━━━━━━━━━━━━━\u001b[0m\u001b[37m\u001b[0m \u001b[1m133s\u001b[0m 12s/step - accuracy: 0.9124 - loss: 0.2770 - val_accuracy: 0.8500 - val_loss: 0.3925\n",
            "Epoch 9/10\n",
            "\u001b[1m10/10\u001b[0m \u001b[32m━━━━━━━━━━━━━━━━━━━━\u001b[0m\u001b[37m\u001b[0m \u001b[1m142s\u001b[0m 12s/step - accuracy: 0.9532 - loss: 0.1770 - val_accuracy: 0.7500 - val_loss: 0.5876\n",
            "Epoch 10/10\n",
            "\u001b[1m10/10\u001b[0m \u001b[32m━━━━━━━━━━━━━━━━━━━━\u001b[0m\u001b[37m\u001b[0m \u001b[1m123s\u001b[0m 12s/step - accuracy: 0.8620 - loss: 0.3113 - val_accuracy: 0.8000 - val_loss: 0.4515\n",
            "### Fine-tuning das últimas camadas da base VGG16 ###\n",
            "Epoch 1/10\n",
            "\u001b[1m10/10\u001b[0m \u001b[32m━━━━━━━━━━━━━━━━━━━━\u001b[0m\u001b[37m\u001b[0m \u001b[1m141s\u001b[0m 14s/step - accuracy: 0.9206 - loss: 0.2132 - val_accuracy: 0.8000 - val_loss: 0.4782\n",
            "Epoch 2/10\n",
            "\u001b[1m10/10\u001b[0m \u001b[32m━━━━━━━━━━━━━━━━━━━━\u001b[0m\u001b[37m\u001b[0m \u001b[1m135s\u001b[0m 14s/step - accuracy: 0.8808 - loss: 0.2246 - val_accuracy: 0.8500 - val_loss: 0.3734\n",
            "Epoch 3/10\n",
            "\u001b[1m10/10\u001b[0m \u001b[32m━━━━━━━━━━━━━━━━━━━━\u001b[0m\u001b[37m\u001b[0m \u001b[1m136s\u001b[0m 14s/step - accuracy: 0.9174 - loss: 0.2244 - val_accuracy: 0.8000 - val_loss: 0.5400\n",
            "Epoch 4/10\n",
            "\u001b[1m10/10\u001b[0m \u001b[32m━━━━━━━━━━━━━━━━━━━━\u001b[0m\u001b[37m\u001b[0m \u001b[1m137s\u001b[0m 14s/step - accuracy: 0.9706 - loss: 0.1118 - val_accuracy: 0.8000 - val_loss: 0.3953\n",
            "Epoch 5/10\n",
            "\u001b[1m10/10\u001b[0m \u001b[32m━━━━━━━━━━━━━━━━━━━━\u001b[0m\u001b[37m\u001b[0m \u001b[1m142s\u001b[0m 14s/step - accuracy: 0.9365 - loss: 0.1516 - val_accuracy: 0.8000 - val_loss: 0.4425\n",
            "Epoch 6/10\n",
            "\u001b[1m10/10\u001b[0m \u001b[32m━━━━━━━━━━━━━━━━━━━━\u001b[0m\u001b[37m\u001b[0m \u001b[1m135s\u001b[0m 14s/step - accuracy: 0.9585 - loss: 0.1340 - val_accuracy: 0.8000 - val_loss: 0.5024\n",
            "Epoch 7/10\n",
            "\u001b[1m10/10\u001b[0m \u001b[32m━━━━━━━━━━━━━━━━━━━━\u001b[0m\u001b[37m\u001b[0m \u001b[1m141s\u001b[0m 14s/step - accuracy: 0.9904 - loss: 0.0788 - val_accuracy: 0.8000 - val_loss: 0.5183\n",
            "Epoch 8/10\n",
            "\u001b[1m10/10\u001b[0m \u001b[32m━━━━━━━━━━━━━━━━━━━━\u001b[0m\u001b[37m\u001b[0m \u001b[1m134s\u001b[0m 14s/step - accuracy: 0.9713 - loss: 0.0828 - val_accuracy: 0.8000 - val_loss: 0.4761\n",
            "Epoch 9/10\n",
            "\u001b[1m10/10\u001b[0m \u001b[32m━━━━━━━━━━━━━━━━━━━━\u001b[0m\u001b[37m\u001b[0m \u001b[1m136s\u001b[0m 14s/step - accuracy: 0.9867 - loss: 0.0927 - val_accuracy: 0.8000 - val_loss: 0.5086\n",
            "Epoch 10/10\n",
            "\u001b[1m10/10\u001b[0m \u001b[32m━━━━━━━━━━━━━━━━━━━━\u001b[0m\u001b[37m\u001b[0m \u001b[1m136s\u001b[0m 14s/step - accuracy: 0.9939 - loss: 0.0520 - val_accuracy: 0.8000 - val_loss: 0.5081\n",
            "Modelo salvo em 'vgg16_transfer_finetuned.h5'\n"
          ]
        },
        {
          "output_type": "display_data",
          "data": {
            "text/plain": [
              "<Figure size 1200x500 with 2 Axes>"
            ],
            "image/png": "[encoded data removed]"
          },
          "metadata": {}
        },
        {
          "output_type": "stream",
          "name": "stderr",
          "text": [
            "/usr/local/lib/python3.11/dist-packages/keras/src/trainers/data_adapters/py_dataset_adapter.py:121: UserWarning: Your `PyDataset` class should call `super().__init__(**kwargs)` in its constructor. `**kwargs` can include `workers`, `use_multiprocessing`, `max_queue_size`. Do not pass these arguments to `fit()`, as they will be ignored.\n",
            "  self._warn_if_super_not_called()\n"
          ]
        },
        {
          "output_type": "stream",
          "name": "stdout",
          "text": [
            "\u001b[1m2/2\u001b[0m \u001b[32m━━━━━━━━━━━━━━━━━━━━\u001b[0m\u001b[37m\u001b[0m \u001b[1m13s\u001b[0m 2s/step - accuracy: 0.8917 - loss: 0.2841\n",
            "Test loss: 0.2623\n",
            "Test accuracy: 0.9000\n"
          ]
        }
      ]
    },
    {
      "cell_type": "code",
      "source": [
        "import os\n",
        "os.listdir('/content/meu_projeto/classificador_de_imagens/dataset')\n"
      ],
      "metadata": {
        "id": "bFCqCfoEMMud",
        "outputId": "d483dc49-2365-499d-e6b3-fc3c9ee79562",
        "colab": {
          "base_uri": "https://localhost:8080/"
        }
      },
      "execution_count": 15,
      "outputs": [
        {
          "output_type": "execute_result",
          "data": {
            "text/plain": [
              "['train', 'test', 'val', 'div_imagens.ipynb']"
            ]
          },
          "metadata": {},
          "execution_count": 15
        }
      ]
    }
  ],
  "metadata": {
    "colab": {
      "name": "Conheça o Colab",
      "provenance": [],
      "include_colab_link": true
    },
    "kernelspec": {
      "display_name": "Python 3",
      "name": "python3"
    }
  },
  "nbformat": 4,
  "nbformat_minor": 0
}